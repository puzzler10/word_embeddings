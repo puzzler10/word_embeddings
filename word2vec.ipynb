{
 "cells": [
  {
   "cell_type": "markdown",
   "metadata": {},
   "source": [
    "Resources used to write this: \n",
    "* https://github.com/bollu/bollu.github.io#everything-you-know-about-word2vec-is-wrong\n",
    "* https://www.youtube.com/watch?v=kEMJRjEdNzM&list=PLoROMvodv4rOhcuXMZkNm7j3fVwBBY42z&index=2"
   ]
  },
  {
   "cell_type": "code",
   "execution_count": 1,
   "metadata": {},
   "outputs": [],
   "source": [
    "import torch \n",
    "import pandas as pd, numpy as np, datetime, scipy.misc\n",
    "from torch.utils.tensorboard import SummaryWriter\n",
    "from scipy.spatial import distance_matrix\n",
    "from sklearn.metrics import pairwise_distances\n",
    "import plotly_express as px\n",
    "import umap \n",
    "path_results = './results/word2vec/'\n",
    "path_runs = path_results + 'runs/'\n",
    "path_data = './data/'"
   ]
  },
  {
   "cell_type": "markdown",
   "metadata": {},
   "source": [
    "Some thoughts on where to go from here: \n",
    "* revamp this with the Dataset and DataLoader architecture \n",
    "* ~~simplify code into functions~~\n",
    "* ~~shuffle sentences on the training set~~ \n",
    "* work out how to make this algorithm in batches \n",
    "* adjust scaling of the starting parameters\n",
    "* ~~do an average loss function over a few batches rather than one~~\n",
    "\n",
    "Tensorboard\n",
    "* ~~hook it up to TensorBoard and print out some training graphs in real time~~\n",
    "* ~~visualise the gradients and the weights of the model~~\n",
    "* plot performance on a holdout set over time (??)\n",
    "* ~~log hyperparameters (m,lr, batch_sz)`~\n",
    "* ~~plot embeddings in tensorboard~~\n",
    "\n",
    "* profile the code: where are the bottlenecks?\n",
    "* put this on github\n",
    "* manually calculate the gradients with finite differences and compare them to the autograd version\n",
    "* intuitively understand the softmax part of this. what's the motivation, what are strengths and weaknesses going to be\n",
    "* revamp using nn.Module \n",
    "* try out Pytorch Lightning"
   ]
  },
  {
   "cell_type": "code",
   "execution_count": 9,
   "metadata": {},
   "outputs": [],
   "source": [
    "torch.manual_seed(420)\n",
    "emb_sz = 3  # number of embedding dimensions"
   ]
  },
  {
   "cell_type": "code",
   "execution_count": 10,
   "metadata": {
    "code_folding": []
   },
   "outputs": [],
   "source": [
    "## read sentences, add start/end of line tokens, merge sentences together\n",
    "corpus = open(path_data + 'simple_sentences.txt').read().split('\\n')\n",
    "def add_line_tokens(x):  return '<SOL> ' + x + ' <EOL>'\n",
    "X_l = [add_line_tokens(o) + ' ' if i != (len(corpus)-1) \n",
    "            else add_line_tokens(o) for i,o in enumerate(corpus) ]\n",
    "X = ''.join(X_l).split(' ')"
   ]
  },
  {
   "cell_type": "code",
   "execution_count": 11,
   "metadata": {},
   "outputs": [],
   "source": [
    "X_test_ = \"\"\"fluffy cute dog happy\n",
    "big happy dog cute\n",
    "small fluffy cat good fun\n",
    "bank good bank big\n",
    "withdraw money bank good\n",
    "deposit bank money\"\"\".split('\\n')\n",
    "#[add_line_tokens(o) + ' ' for o in X_test]\n",
    "\n",
    "# sen_l = X_test[0]\n",
    "# sen = sen_l.split(' ')\n",
    "# m = 1 \n",
    "# idx_c=2  # idx_c\n",
    "# c = sen[idx_c]\n",
    "# min_idx,max_idx = max(0,sen_l-m), min(len(sen_l)-1,idx_c+m)\n",
    "# for j in range(min_idx, max_idx+1): \n",
    "#     if j == idx_c:  continue \n",
    "#         sen[j]"
   ]
  },
  {
   "cell_type": "code",
   "execution_count": 12,
   "metadata": {
    "code_folding": [
     5,
     10,
     15,
     30,
     39
    ]
   },
   "outputs": [],
   "source": [
    "## prepare vectors and accessor dictionaries\n",
    "words = list(set(X))\n",
    "n_words = len(words)\n",
    "word2idx,idx2word = dict(),dict()\n",
    "for i,o in enumerate(words): word2idx[o] = i ; idx2word[i] = o\n",
    "def init_emb_mat(): \n",
    "    tmp = torch.rand((emb_sz, n_words))*1\n",
    "    tmp.requires_grad=True\n",
    "    return tmp\n",
    "U,V = init_emb_mat(),init_emb_mat()  # U holds context words, V holds center words\n",
    "def softmax(x): \n",
    "    \"\"\"Numerically stable softmax\"\"\"\n",
    "    z = x - max(x)\n",
    "    return torch.exp(z) / torch.sum(torch.exp(z))\n",
    "\n",
    "def get_batch(X, batch_sz, curr_idx=0):\n",
    "    \"\"\"Allows for batch updating\n",
    "    X: corpus list of words, batch_sz: batch size, curr_idx: a running index \n",
    "    Returns tuple: X_batch (to run word2vec over), and new_idx (the next \n",
    "    iteration of running index )\"\"\"\n",
    "    idx = curr_idx \n",
    "    new_idx = idx + batch_sz \n",
    "    X_sz = len(X) - 1 \n",
    "    if new_idx > X_sz: \n",
    "        new_idx = (new_idx % X_sz) - 1\n",
    "        X_batch = X[idx:] + X[0:new_idx] \n",
    "    else: \n",
    "        X_batch = X[idx:new_idx]\n",
    "    return X_batch,new_idx\n",
    "\n",
    "def shuffle_X(X_l):\n",
    "    \"\"\"X_l: list of sentences of X\"\"\"\n",
    "    idxs = np.random.choice(range(len(X_l)),size = len(X_l),replace=False)\n",
    "    X_l_new = np.array(X_l)[idxs].tolist()\n",
    "    # make sure every sentence (except last ends in space)\n",
    "    X_l_new = [o + ' ' if o[-1] != ' ' else o for o in X_l_new]\n",
    "    X_l_new[-1] = X_l_new[-1][:-1]\n",
    "    return ''.join(X_l_new).split(' ')\n",
    "\n",
    "def predict(c,o):\n",
    "    \"\"\"Takes current values of U and V and predicts the probability of context word o \n",
    "    appearing in context window of center word c \"\"\"\n",
    "    c_idx,o_idx = word2idx[c],word2idx[o]\n",
    "    v = V[:,c_idx].reshape(-1,1)\n",
    "    dotprods = (v*U).sum(0)\n",
    "    return softmax(dotprods)[o_idx].item()\n",
    "\n",
    "def add_run_info_to_tensorboard(): \n",
    "    # Hparams\n",
    "    hparam_d = {'emb_sz': emb_sz, 'm': m, 'lr': lr, 'batch_sz':batch_sz,\n",
    "                'n_epochs':n_epochs, 'printfreq': printfreq}\n",
    "    metric_d = {'hparam/loss': loss}\n",
    "    writer.add_hparams(hparam_d, metric_d)\n",
    "    # Umap embeddings\n",
    "    emb = ((V+U) /2).T\n",
    "    writer.add_embedding(emb,metadata=words,\n",
    "                     tag='final_embeddings' )\n",
    "\n",
    "def update_tensorboard(): \n",
    "    # loss, weights, grads\n",
    "    writer.add_scalar(tag='training_loss', scalar_value=loss, \n",
    "                          global_step=global_step)\n",
    "    writer.add_histogram(tag='V_weights', values=V, global_step=global_step)\n",
    "    writer.add_histogram(tag='U_weights', values=U, global_step=global_step)\n",
    "    writer.add_histogram(tag='V_grad', values=V.grad, global_step=global_step)\n",
    "    writer.add_histogram(tag='U_grad', values=U.grad, global_step=global_step)\n",
    "    \n",
    "    # some example predictions\n",
    "    preds_d = {\n",
    "            'p_dog_cute':          predict('dog','cute'),\n",
    "            'p_cute_dog':          predict('cute', 'dog'),\n",
    "            'p_dog_dog':           predict('dog','dog'),\n",
    "            'p_eol_sol':           predict('<EOL>','<SOL>'),\n",
    "            'p_bank_money':        predict('bank','money'),\n",
    "            'p_withdraw_money':    predict('withdraw','money'),\n",
    "            'p_money_withdraw':    predict('money','withdraw'),\n",
    "            \"p_dog_money\":         predict('dog','money'),\n",
    "            \"p_bank_cat\":          predict('bank','cat')\n",
    "        }\n",
    "    writer.add_scalars('example_predictions', preds_d, global_step=global_step)\n",
    "    \n",
    "    "
   ]
  },
  {
   "cell_type": "code",
   "execution_count": 13,
   "metadata": {
    "code_folding": []
   },
   "outputs": [
    {
     "name": "stdout",
     "output_type": "stream",
     "text": [
      "50 8315 2.521885723047863\n",
      "100 16615 2.3806907666671253\n",
      "150 24915 2.3162625005938873\n",
      "200 33215 2.2803790251720826\n",
      "250 41515 2.2599090018483716\n",
      "300 49815 2.248839707273509\n",
      "350 58115 2.2443694553853\n",
      "400 66415 2.239168651775964\n"
     ]
    }
   ],
   "source": [
    "## the word2vec algorithm with SGD \n",
    "# with SGDa\n",
    "lr = 0.1\n",
    "m = 2  # number of context words\n",
    "n_epochs = 400\n",
    "printfreq = 50\n",
    "batch_sz = 16\n",
    "idx = 0 \n",
    "epoch = 0 \n",
    "loss_l = []  # holds losses of each batch, we'll take an average for eval \n",
    "log_dir = path_runs + datetime.datetime.now().strftime(\"%Y%m%d-%H%M%S\") + \"/\"\n",
    "writer = SummaryWriter(log_dir = log_dir)\n",
    "while epoch < n_epochs: \n",
    "    loss_sum = 0\n",
    "    X_batch,new_idx = get_batch(X,batch_sz,idx)\n",
    "    if new_idx <= idx: \n",
    "        X = shuffle_X(X_l)\n",
    "        epoch += 1\n",
    "        printflag = True \n",
    "    else: printflag = False\n",
    "    idx = new_idx\n",
    "    for i, c in enumerate(X_batch):   # enumerates for center word c \n",
    "        dotprods = (V[:,word2idx[c]].reshape(-1,1)*U).sum(0)   # use in calculating p below\n",
    "        min_idx,max_idx = max(0,i-m), min(len(X_batch)-1,i+m)\n",
    "        for j in range(min_idx, max_idx+1):   # enumerate context words \n",
    "            if j == i: continue   # don't eval the center word\n",
    "            p = softmax(dotprods)[word2idx[X_batch[j]]] \n",
    "            loss_sum += torch.log(p)\n",
    "          #  print(\"center:\",c,\"| context:\",o, \" \", p.item(), torch.log(p).item())   \n",
    "        \n",
    "    # last term below compensates for sliding window hitting the end of batch. \n",
    "    # it doesn't matter much.\n",
    "    # batch_sz*2*m <--> number of center words * number of context words\n",
    "    # sum(range(m,0,-1))*2 <--> adjust for end words \n",
    "    loss_sum = -loss_sum / (batch_sz*2*m - sum(range(m,0,-1))*2) \n",
    "    loss_l.append(loss_sum.item())\n",
    "    loss_sum.backward()\n",
    "    #if epoch % printfreq == (printfreq-1) and printflag: \n",
    "    if epoch % printfreq == 0 and printflag:\n",
    "        global_step = epoch*len(X) + i\n",
    "        loss = np.mean(loss_l)\n",
    "        update_tensorboard()\n",
    "        print(epoch, global_step, np.mean(loss_l))\n",
    "        loss_l = []\n",
    "    U.data = U.data - lr * U.grad\n",
    "    V.data = V.data - lr * V.grad\n",
    "    U.grad.data.zero_()\n",
    "    V.grad.data.zero_()\n",
    "add_run_info_to_tensorboard()\n",
    "writer.close()\n"
   ]
  },
  {
   "cell_type": "markdown",
   "metadata": {},
   "source": [
    "## Diagnostics"
   ]
  },
  {
   "cell_type": "code",
   "execution_count": 14,
   "metadata": {},
   "outputs": [],
   "source": [
    "# We average together V and U vectors to get the final embedding \n",
    "emb = ((U + V) / 2).detach().numpy()\n",
    "df_emb = pd.DataFrame(emb, columns =  words)\n",
    "def normalise_embedding_df(df):  \n",
    "    return df /np.linalg.norm(df.values,ord=2,axis=0,keepdims=True)\n",
    "df_emb_normalised = normalise_embedding_df(df_emb)"
   ]
  },
  {
   "cell_type": "code",
   "execution_count": 15,
   "metadata": {
    "code_folding": [
     5,
     22,
     28,
     38
    ]
   },
   "outputs": [],
   "source": [
    "### Functions \n",
    "## Count how often each word appears in input\n",
    "def get_word_input_counts():   return pd.Series(X).value_counts()\n",
    "\n",
    "## Count how often a word appears within distance m of another word \n",
    "def get_word_cooccurences(): \n",
    "    \"\"\"\n",
    "    Returns a symmetrical data frame, where the column is the center word, \n",
    "     and the row is how often that word  appears in the m-window \n",
    "     around the center word\n",
    "    \"\"\" \n",
    "    count_df = pd.DataFrame(np.zeros((n_words,n_words)),dtype=int,\n",
    "                           index = words, columns = words)\n",
    "    # X is the list of words\n",
    "    for i,c in enumerate(X): \n",
    "        min_idx,max_idx = max(0,i-m),min(len(X)-1,i+m)\n",
    "        for j in range(min_idx,max_idx+1): \n",
    "            if j == i: continue\n",
    "            o_idx = word2idx[X[j]]\n",
    "            count_df.iloc[o_idx][word2idx[c]] += 1\n",
    "    return count_df\n",
    "\n",
    "def get_dist_mat(df, metric): \n",
    "    \"\"\"df: pandas data frame; metric: anything fitting in pairwise distances\"\"\"\n",
    "    return pd.DataFrame(pairwise_distances(df.values.T, metric=metric).round(3), \n",
    "                       columns = df_emb.columns, index = df_emb.columns)\n",
    "    \n",
    "# Given a word w, what word is closest/furthest to it? \n",
    "def get_similar_n_words(w, n=5, direction='closest', metric='cosine'): \n",
    "    \"\"\"w: word, emb: embeddings as np array\n",
    "    direction: one of closest or furthest\"\"\"\n",
    "    dist_mat = get_dist_mat(df_emb,metric=metric)\n",
    "    v = dist_mat[w]\n",
    "    if    direction == 'closest' : return v.nsmallest(n+1)[1:]\n",
    "    elif  direction == 'furthest': return v.nlargest(n)\n",
    "    else: raise Exception(\"direction must be one of 'closest' or 'furthest'\")\n",
    "\n",
    "## Do dim reduction with umap and plot results\n",
    "def plot_umap(emb, n_dims=3, n_neighbours=3): \n",
    "    \"\"\"n_dims: number of output dimensions \n",
    "    n_neighbours: local/global parameter for UMAP\"\"\"\n",
    "    if   n_dims == 2:   cols = ['dim1','dim2']\n",
    "    elif n_dims == 3:   cols = ['dim1','dim2','dim3']\n",
    "    else:               raise Exception('dims should be 2 or 3')\n",
    "    # put your data values in the fit_transform bit \n",
    "    emb_umap = umap.UMAP(n_neighbors=n_neighbours, n_components=n_dims).fit_transform(emb.T)\n",
    "    # put in pandas dataframe to help plotting with plotly express\n",
    "    emb_umap_df = pd.DataFrame(emb_umap, columns = cols)\n",
    "    emb_umap_df['word'] = words\n",
    "    if n_dims == 2: \n",
    "        return px.scatter(emb_umap_df,    x='dim1', y='dim2',          hover_name='word')\n",
    "    elif n_dims ==3:\n",
    "        return px.scatter_3d(emb_umap_df, x='dim1', y='dim2',z='dim3', hover_name='word')\n",
    "         "
   ]
  },
  {
   "cell_type": "code",
   "execution_count": 16,
   "metadata": {},
   "outputs": [
    {
     "name": "stdout",
     "output_type": "stream",
     "text": [
      "<EOL>       31\n",
      "<SOL>       31\n",
      "dog         18\n",
      "money       14\n",
      "bank        13\n",
      "good         9\n",
      "fluffy       9\n",
      "cute         7\n",
      "small        6\n",
      "put          5\n",
      "fun          5\n",
      "big          5\n",
      "cat          4\n",
      "happy        3\n",
      "withdraw     3\n",
      "deposit      3\n",
      "dtype: int64\n"
     ]
    },
    {
     "data": {
      "text/html": [
       "<div>\n",
       "<style scoped>\n",
       "    .dataframe tbody tr th:only-of-type {\n",
       "        vertical-align: middle;\n",
       "    }\n",
       "\n",
       "    .dataframe tbody tr th {\n",
       "        vertical-align: top;\n",
       "    }\n",
       "\n",
       "    .dataframe thead th {\n",
       "        text-align: right;\n",
       "    }\n",
       "</style>\n",
       "<table border=\"1\" class=\"dataframe\">\n",
       "  <thead>\n",
       "    <tr style=\"text-align: right;\">\n",
       "      <th></th>\n",
       "      <th>cat</th>\n",
       "      <th>dog</th>\n",
       "      <th>money</th>\n",
       "      <th>big</th>\n",
       "      <th>&lt;SOL&gt;</th>\n",
       "      <th>&lt;EOL&gt;</th>\n",
       "      <th>fun</th>\n",
       "      <th>bank</th>\n",
       "      <th>deposit</th>\n",
       "      <th>cute</th>\n",
       "      <th>fluffy</th>\n",
       "      <th>withdraw</th>\n",
       "      <th>good</th>\n",
       "      <th>put</th>\n",
       "      <th>happy</th>\n",
       "      <th>small</th>\n",
       "    </tr>\n",
       "  </thead>\n",
       "  <tbody>\n",
       "    <tr>\n",
       "      <th>cat</th>\n",
       "      <td>0</td>\n",
       "      <td>1</td>\n",
       "      <td>0</td>\n",
       "      <td>1</td>\n",
       "      <td>3</td>\n",
       "      <td>4</td>\n",
       "      <td>0</td>\n",
       "      <td>0</td>\n",
       "      <td>0</td>\n",
       "      <td>2</td>\n",
       "      <td>2</td>\n",
       "      <td>0</td>\n",
       "      <td>1</td>\n",
       "      <td>0</td>\n",
       "      <td>0</td>\n",
       "      <td>2</td>\n",
       "    </tr>\n",
       "    <tr>\n",
       "      <th>dog</th>\n",
       "      <td>1</td>\n",
       "      <td>10</td>\n",
       "      <td>0</td>\n",
       "      <td>1</td>\n",
       "      <td>12</td>\n",
       "      <td>14</td>\n",
       "      <td>5</td>\n",
       "      <td>0</td>\n",
       "      <td>0</td>\n",
       "      <td>7</td>\n",
       "      <td>9</td>\n",
       "      <td>0</td>\n",
       "      <td>4</td>\n",
       "      <td>0</td>\n",
       "      <td>4</td>\n",
       "      <td>5</td>\n",
       "    </tr>\n",
       "    <tr>\n",
       "      <th>money</th>\n",
       "      <td>0</td>\n",
       "      <td>0</td>\n",
       "      <td>0</td>\n",
       "      <td>2</td>\n",
       "      <td>14</td>\n",
       "      <td>14</td>\n",
       "      <td>0</td>\n",
       "      <td>12</td>\n",
       "      <td>3</td>\n",
       "      <td>0</td>\n",
       "      <td>0</td>\n",
       "      <td>3</td>\n",
       "      <td>3</td>\n",
       "      <td>4</td>\n",
       "      <td>0</td>\n",
       "      <td>0</td>\n",
       "    </tr>\n",
       "    <tr>\n",
       "      <th>big</th>\n",
       "      <td>1</td>\n",
       "      <td>1</td>\n",
       "      <td>2</td>\n",
       "      <td>0</td>\n",
       "      <td>5</td>\n",
       "      <td>5</td>\n",
       "      <td>0</td>\n",
       "      <td>3</td>\n",
       "      <td>0</td>\n",
       "      <td>0</td>\n",
       "      <td>2</td>\n",
       "      <td>0</td>\n",
       "      <td>1</td>\n",
       "      <td>0</td>\n",
       "      <td>0</td>\n",
       "      <td>0</td>\n",
       "    </tr>\n",
       "    <tr>\n",
       "      <th>&lt;SOL&gt;</th>\n",
       "      <td>3</td>\n",
       "      <td>12</td>\n",
       "      <td>14</td>\n",
       "      <td>5</td>\n",
       "      <td>0</td>\n",
       "      <td>30</td>\n",
       "      <td>5</td>\n",
       "      <td>12</td>\n",
       "      <td>3</td>\n",
       "      <td>7</td>\n",
       "      <td>7</td>\n",
       "      <td>3</td>\n",
       "      <td>8</td>\n",
       "      <td>5</td>\n",
       "      <td>3</td>\n",
       "      <td>5</td>\n",
       "    </tr>\n",
       "    <tr>\n",
       "      <th>&lt;EOL&gt;</th>\n",
       "      <td>4</td>\n",
       "      <td>14</td>\n",
       "      <td>14</td>\n",
       "      <td>5</td>\n",
       "      <td>30</td>\n",
       "      <td>0</td>\n",
       "      <td>5</td>\n",
       "      <td>13</td>\n",
       "      <td>3</td>\n",
       "      <td>5</td>\n",
       "      <td>8</td>\n",
       "      <td>3</td>\n",
       "      <td>8</td>\n",
       "      <td>5</td>\n",
       "      <td>2</td>\n",
       "      <td>3</td>\n",
       "    </tr>\n",
       "    <tr>\n",
       "      <th>fun</th>\n",
       "      <td>0</td>\n",
       "      <td>5</td>\n",
       "      <td>0</td>\n",
       "      <td>0</td>\n",
       "      <td>5</td>\n",
       "      <td>5</td>\n",
       "      <td>0</td>\n",
       "      <td>0</td>\n",
       "      <td>0</td>\n",
       "      <td>0</td>\n",
       "      <td>2</td>\n",
       "      <td>0</td>\n",
       "      <td>3</td>\n",
       "      <td>0</td>\n",
       "      <td>0</td>\n",
       "      <td>0</td>\n",
       "    </tr>\n",
       "    <tr>\n",
       "      <th>bank</th>\n",
       "      <td>0</td>\n",
       "      <td>0</td>\n",
       "      <td>12</td>\n",
       "      <td>3</td>\n",
       "      <td>12</td>\n",
       "      <td>13</td>\n",
       "      <td>0</td>\n",
       "      <td>0</td>\n",
       "      <td>2</td>\n",
       "      <td>0</td>\n",
       "      <td>0</td>\n",
       "      <td>2</td>\n",
       "      <td>3</td>\n",
       "      <td>4</td>\n",
       "      <td>0</td>\n",
       "      <td>0</td>\n",
       "    </tr>\n",
       "    <tr>\n",
       "      <th>deposit</th>\n",
       "      <td>0</td>\n",
       "      <td>0</td>\n",
       "      <td>3</td>\n",
       "      <td>0</td>\n",
       "      <td>3</td>\n",
       "      <td>3</td>\n",
       "      <td>0</td>\n",
       "      <td>2</td>\n",
       "      <td>0</td>\n",
       "      <td>0</td>\n",
       "      <td>0</td>\n",
       "      <td>1</td>\n",
       "      <td>0</td>\n",
       "      <td>0</td>\n",
       "      <td>0</td>\n",
       "      <td>0</td>\n",
       "    </tr>\n",
       "    <tr>\n",
       "      <th>cute</th>\n",
       "      <td>2</td>\n",
       "      <td>7</td>\n",
       "      <td>0</td>\n",
       "      <td>0</td>\n",
       "      <td>7</td>\n",
       "      <td>5</td>\n",
       "      <td>0</td>\n",
       "      <td>0</td>\n",
       "      <td>0</td>\n",
       "      <td>2</td>\n",
       "      <td>2</td>\n",
       "      <td>0</td>\n",
       "      <td>0</td>\n",
       "      <td>0</td>\n",
       "      <td>1</td>\n",
       "      <td>2</td>\n",
       "    </tr>\n",
       "    <tr>\n",
       "      <th>fluffy</th>\n",
       "      <td>2</td>\n",
       "      <td>9</td>\n",
       "      <td>0</td>\n",
       "      <td>2</td>\n",
       "      <td>7</td>\n",
       "      <td>8</td>\n",
       "      <td>2</td>\n",
       "      <td>0</td>\n",
       "      <td>0</td>\n",
       "      <td>2</td>\n",
       "      <td>0</td>\n",
       "      <td>0</td>\n",
       "      <td>0</td>\n",
       "      <td>0</td>\n",
       "      <td>0</td>\n",
       "      <td>4</td>\n",
       "    </tr>\n",
       "    <tr>\n",
       "      <th>withdraw</th>\n",
       "      <td>0</td>\n",
       "      <td>0</td>\n",
       "      <td>3</td>\n",
       "      <td>0</td>\n",
       "      <td>3</td>\n",
       "      <td>3</td>\n",
       "      <td>0</td>\n",
       "      <td>2</td>\n",
       "      <td>1</td>\n",
       "      <td>0</td>\n",
       "      <td>0</td>\n",
       "      <td>0</td>\n",
       "      <td>0</td>\n",
       "      <td>0</td>\n",
       "      <td>0</td>\n",
       "      <td>0</td>\n",
       "    </tr>\n",
       "    <tr>\n",
       "      <th>good</th>\n",
       "      <td>1</td>\n",
       "      <td>4</td>\n",
       "      <td>3</td>\n",
       "      <td>1</td>\n",
       "      <td>8</td>\n",
       "      <td>8</td>\n",
       "      <td>3</td>\n",
       "      <td>3</td>\n",
       "      <td>0</td>\n",
       "      <td>0</td>\n",
       "      <td>0</td>\n",
       "      <td>0</td>\n",
       "      <td>0</td>\n",
       "      <td>2</td>\n",
       "      <td>1</td>\n",
       "      <td>2</td>\n",
       "    </tr>\n",
       "    <tr>\n",
       "      <th>put</th>\n",
       "      <td>0</td>\n",
       "      <td>0</td>\n",
       "      <td>4</td>\n",
       "      <td>0</td>\n",
       "      <td>5</td>\n",
       "      <td>5</td>\n",
       "      <td>0</td>\n",
       "      <td>4</td>\n",
       "      <td>0</td>\n",
       "      <td>0</td>\n",
       "      <td>0</td>\n",
       "      <td>0</td>\n",
       "      <td>2</td>\n",
       "      <td>0</td>\n",
       "      <td>0</td>\n",
       "      <td>0</td>\n",
       "    </tr>\n",
       "    <tr>\n",
       "      <th>happy</th>\n",
       "      <td>0</td>\n",
       "      <td>4</td>\n",
       "      <td>0</td>\n",
       "      <td>0</td>\n",
       "      <td>3</td>\n",
       "      <td>2</td>\n",
       "      <td>0</td>\n",
       "      <td>0</td>\n",
       "      <td>0</td>\n",
       "      <td>1</td>\n",
       "      <td>0</td>\n",
       "      <td>0</td>\n",
       "      <td>1</td>\n",
       "      <td>0</td>\n",
       "      <td>0</td>\n",
       "      <td>1</td>\n",
       "    </tr>\n",
       "    <tr>\n",
       "      <th>small</th>\n",
       "      <td>2</td>\n",
       "      <td>5</td>\n",
       "      <td>0</td>\n",
       "      <td>0</td>\n",
       "      <td>5</td>\n",
       "      <td>3</td>\n",
       "      <td>0</td>\n",
       "      <td>0</td>\n",
       "      <td>0</td>\n",
       "      <td>2</td>\n",
       "      <td>4</td>\n",
       "      <td>0</td>\n",
       "      <td>2</td>\n",
       "      <td>0</td>\n",
       "      <td>1</td>\n",
       "      <td>0</td>\n",
       "    </tr>\n",
       "  </tbody>\n",
       "</table>\n",
       "</div>"
      ],
      "text/plain": [
       "          cat  dog  money  big  <SOL>  <EOL>  fun  bank  deposit  cute  \\\n",
       "cat         0    1      0    1      3      4    0     0        0     2   \n",
       "dog         1   10      0    1     12     14    5     0        0     7   \n",
       "money       0    0      0    2     14     14    0    12        3     0   \n",
       "big         1    1      2    0      5      5    0     3        0     0   \n",
       "<SOL>       3   12     14    5      0     30    5    12        3     7   \n",
       "<EOL>       4   14     14    5     30      0    5    13        3     5   \n",
       "fun         0    5      0    0      5      5    0     0        0     0   \n",
       "bank        0    0     12    3     12     13    0     0        2     0   \n",
       "deposit     0    0      3    0      3      3    0     2        0     0   \n",
       "cute        2    7      0    0      7      5    0     0        0     2   \n",
       "fluffy      2    9      0    2      7      8    2     0        0     2   \n",
       "withdraw    0    0      3    0      3      3    0     2        1     0   \n",
       "good        1    4      3    1      8      8    3     3        0     0   \n",
       "put         0    0      4    0      5      5    0     4        0     0   \n",
       "happy       0    4      0    0      3      2    0     0        0     1   \n",
       "small       2    5      0    0      5      3    0     0        0     2   \n",
       "\n",
       "          fluffy  withdraw  good  put  happy  small  \n",
       "cat            2         0     1    0      0      2  \n",
       "dog            9         0     4    0      4      5  \n",
       "money          0         3     3    4      0      0  \n",
       "big            2         0     1    0      0      0  \n",
       "<SOL>          7         3     8    5      3      5  \n",
       "<EOL>          8         3     8    5      2      3  \n",
       "fun            2         0     3    0      0      0  \n",
       "bank           0         2     3    4      0      0  \n",
       "deposit        0         1     0    0      0      0  \n",
       "cute           2         0     0    0      1      2  \n",
       "fluffy         0         0     0    0      0      4  \n",
       "withdraw       0         0     0    0      0      0  \n",
       "good           0         0     0    2      1      2  \n",
       "put            0         0     2    0      0      0  \n",
       "happy          0         0     1    0      0      1  \n",
       "small          4         0     2    0      1      0  "
      ]
     },
     "execution_count": 16,
     "metadata": {},
     "output_type": "execute_result"
    }
   ],
   "source": [
    "print(get_word_input_counts())\n",
    "get_word_cooccurences()"
   ]
  },
  {
   "cell_type": "code",
   "execution_count": 17,
   "metadata": {},
   "outputs": [
    {
     "data": {
      "text/plain": [
       "small     0.255\n",
       "fluffy    0.274\n",
       "happy     0.456\n",
       "dog       0.500\n",
       "fun       0.507\n",
       "Name: cute, dtype: float32"
      ]
     },
     "execution_count": 17,
     "metadata": {},
     "output_type": "execute_result"
    }
   ],
   "source": [
    "get_similar_n_words('cute',direction = 'closest', metric='euclidean')"
   ]
  },
  {
   "cell_type": "code",
   "execution_count": 18,
   "metadata": {},
   "outputs": [
    {
     "data": {
      "text/plain": [
       "put         2.910\n",
       "withdraw    2.811\n",
       "deposit     2.790\n",
       "money       2.786\n",
       "bank        2.691\n",
       "Name: cute, dtype: float32"
      ]
     },
     "execution_count": 18,
     "metadata": {},
     "output_type": "execute_result"
    }
   ],
   "source": [
    "get_similar_n_words('cute',direction = 'furthest', metric='euclidean')"
   ]
  },
  {
   "cell_type": "code",
   "execution_count": 19,
   "metadata": {},
   "outputs": [],
   "source": [
    "def get_len(x): b"
   ]
  },
  {
   "cell_type": "code",
   "execution_count": 286,
   "metadata": {},
   "outputs": [],
   "source": []
  },
  {
   "cell_type": "code",
   "execution_count": 288,
   "metadata": {},
   "outputs": [],
   "source": []
  },
  {
   "cell_type": "code",
   "execution_count": 295,
   "metadata": {
    "scrolled": true
   },
   "outputs": [
    {
     "name": "stderr",
     "output_type": "stream",
     "text": [
      "/Users/tomroth/anaconda3/lib/python3.7/site-packages/umap/spectral.py:229: UserWarning:\n",
      "\n",
      "Embedding a total of 3 separate connected components using meta-embedding (experimental)\n",
      "\n"
     ]
    },
    {
     "data": {
      "application/vnd.plotly.v1+json": {
       "config": {
        "linkText": "Export to plot.ly",
        "plotlyServerURL": "https://plot.ly",
        "showLink": false
       },
       "data": [
        {
         "hoverlabel": {
          "namelength": 0
         },
         "hovertemplate": "<b>%{hovertext}</b><br><br>dim1=%{x}<br>dim2=%{y}<br>dim3=%{z}",
         "hovertext": [
          "big",
          "cute",
          "<EOL>",
          "dog",
          "fun",
          "withdraw",
          "cat",
          "happy",
          "fluffy",
          "bank",
          "put",
          "good",
          "small",
          "money",
          "deposit",
          "<SOL>"
         ],
         "legendgroup": "",
         "marker": {
          "color": "#636efa",
          "symbol": "circle"
         },
         "mode": "markers",
         "name": "",
         "showlegend": false,
         "type": "scatter3d",
         "x": [
          14.882000923156738,
          16.263641357421875,
          14.71601390838623,
          16.062185287475586,
          16.62544822692871,
          4.786110877990723,
          15.877803802490234,
          16.548437118530273,
          16.375072479248047,
          4.921092510223389,
          5.201442241668701,
          14.935057640075684,
          15.609272956848145,
          4.884707927703857,
          4.560201644897461,
          14.879393577575684
         ],
         "y": [
          -10.513669967651367,
          22.853248596191406,
          -10.928855895996094,
          23.0949649810791,
          22.816743850708008,
          -7.588411331176758,
          22.00678062438965,
          23.12978744506836,
          22.235090255737305,
          -6.703819274902344,
          -6.607868194580078,
          -11.509530067443848,
          22.507320404052734,
          -7.007293224334717,
          -7.254831314086914,
          -11.131818771362305
         ],
         "z": [
          -6.677679061889648,
          -2.1236226558685303,
          -6.641607761383057,
          -1.7645058631896973,
          -1.180980920791626,
          3.236720323562622,
          -1.4429502487182617,
          -1.4033637046813965,
          -1.7844398021697998,
          3.8782079219818115,
          3.3690996170043945,
          -6.2009196281433105,
          -1.7214936017990112,
          3.0777149200439453,
          3.490950345993042,
          -6.4308061599731445
         ]
        }
       ],
       "layout": {
        "height": 600,
        "legend": {
         "tracegroupgap": 0
        },
        "margin": {
         "t": 60
        },
        "scene": {
         "xaxis": {
          "title": {
           "text": "dim1"
          }
         },
         "yaxis": {
          "title": {
           "text": "dim2"
          }
         },
         "zaxis": {
          "title": {
           "text": "dim3"
          }
         }
        },
        "template": {
         "data": {
          "bar": [
           {
            "error_x": {
             "color": "#2a3f5f"
            },
            "error_y": {
             "color": "#2a3f5f"
            },
            "marker": {
             "line": {
              "color": "#E5ECF6",
              "width": 0.5
             }
            },
            "type": "bar"
           }
          ],
          "barpolar": [
           {
            "marker": {
             "line": {
              "color": "#E5ECF6",
              "width": 0.5
             }
            },
            "type": "barpolar"
           }
          ],
          "carpet": [
           {
            "aaxis": {
             "endlinecolor": "#2a3f5f",
             "gridcolor": "white",
             "linecolor": "white",
             "minorgridcolor": "white",
             "startlinecolor": "#2a3f5f"
            },
            "baxis": {
             "endlinecolor": "#2a3f5f",
             "gridcolor": "white",
             "linecolor": "white",
             "minorgridcolor": "white",
             "startlinecolor": "#2a3f5f"
            },
            "type": "carpet"
           }
          ],
          "choropleth": [
           {
            "colorbar": {
             "outlinewidth": 0,
             "ticks": ""
            },
            "type": "choropleth"
           }
          ],
          "contour": [
           {
            "colorbar": {
             "outlinewidth": 0,
             "ticks": ""
            },
            "colorscale": [
             [
              0,
              "#0d0887"
             ],
             [
              0.1111111111111111,
              "#46039f"
             ],
             [
              0.2222222222222222,
              "#7201a8"
             ],
             [
              0.3333333333333333,
              "#9c179e"
             ],
             [
              0.4444444444444444,
              "#bd3786"
             ],
             [
              0.5555555555555556,
              "#d8576b"
             ],
             [
              0.6666666666666666,
              "#ed7953"
             ],
             [
              0.7777777777777778,
              "#fb9f3a"
             ],
             [
              0.8888888888888888,
              "#fdca26"
             ],
             [
              1,
              "#f0f921"
             ]
            ],
            "type": "contour"
           }
          ],
          "contourcarpet": [
           {
            "colorbar": {
             "outlinewidth": 0,
             "ticks": ""
            },
            "type": "contourcarpet"
           }
          ],
          "heatmap": [
           {
            "colorbar": {
             "outlinewidth": 0,
             "ticks": ""
            },
            "colorscale": [
             [
              0,
              "#0d0887"
             ],
             [
              0.1111111111111111,
              "#46039f"
             ],
             [
              0.2222222222222222,
              "#7201a8"
             ],
             [
              0.3333333333333333,
              "#9c179e"
             ],
             [
              0.4444444444444444,
              "#bd3786"
             ],
             [
              0.5555555555555556,
              "#d8576b"
             ],
             [
              0.6666666666666666,
              "#ed7953"
             ],
             [
              0.7777777777777778,
              "#fb9f3a"
             ],
             [
              0.8888888888888888,
              "#fdca26"
             ],
             [
              1,
              "#f0f921"
             ]
            ],
            "type": "heatmap"
           }
          ],
          "heatmapgl": [
           {
            "colorbar": {
             "outlinewidth": 0,
             "ticks": ""
            },
            "colorscale": [
             [
              0,
              "#0d0887"
             ],
             [
              0.1111111111111111,
              "#46039f"
             ],
             [
              0.2222222222222222,
              "#7201a8"
             ],
             [
              0.3333333333333333,
              "#9c179e"
             ],
             [
              0.4444444444444444,
              "#bd3786"
             ],
             [
              0.5555555555555556,
              "#d8576b"
             ],
             [
              0.6666666666666666,
              "#ed7953"
             ],
             [
              0.7777777777777778,
              "#fb9f3a"
             ],
             [
              0.8888888888888888,
              "#fdca26"
             ],
             [
              1,
              "#f0f921"
             ]
            ],
            "type": "heatmapgl"
           }
          ],
          "histogram": [
           {
            "marker": {
             "colorbar": {
              "outlinewidth": 0,
              "ticks": ""
             }
            },
            "type": "histogram"
           }
          ],
          "histogram2d": [
           {
            "colorbar": {
             "outlinewidth": 0,
             "ticks": ""
            },
            "colorscale": [
             [
              0,
              "#0d0887"
             ],
             [
              0.1111111111111111,
              "#46039f"
             ],
             [
              0.2222222222222222,
              "#7201a8"
             ],
             [
              0.3333333333333333,
              "#9c179e"
             ],
             [
              0.4444444444444444,
              "#bd3786"
             ],
             [
              0.5555555555555556,
              "#d8576b"
             ],
             [
              0.6666666666666666,
              "#ed7953"
             ],
             [
              0.7777777777777778,
              "#fb9f3a"
             ],
             [
              0.8888888888888888,
              "#fdca26"
             ],
             [
              1,
              "#f0f921"
             ]
            ],
            "type": "histogram2d"
           }
          ],
          "histogram2dcontour": [
           {
            "colorbar": {
             "outlinewidth": 0,
             "ticks": ""
            },
            "colorscale": [
             [
              0,
              "#0d0887"
             ],
             [
              0.1111111111111111,
              "#46039f"
             ],
             [
              0.2222222222222222,
              "#7201a8"
             ],
             [
              0.3333333333333333,
              "#9c179e"
             ],
             [
              0.4444444444444444,
              "#bd3786"
             ],
             [
              0.5555555555555556,
              "#d8576b"
             ],
             [
              0.6666666666666666,
              "#ed7953"
             ],
             [
              0.7777777777777778,
              "#fb9f3a"
             ],
             [
              0.8888888888888888,
              "#fdca26"
             ],
             [
              1,
              "#f0f921"
             ]
            ],
            "type": "histogram2dcontour"
           }
          ],
          "mesh3d": [
           {
            "colorbar": {
             "outlinewidth": 0,
             "ticks": ""
            },
            "type": "mesh3d"
           }
          ],
          "parcoords": [
           {
            "line": {
             "colorbar": {
              "outlinewidth": 0,
              "ticks": ""
             }
            },
            "type": "parcoords"
           }
          ],
          "scatter": [
           {
            "marker": {
             "colorbar": {
              "outlinewidth": 0,
              "ticks": ""
             }
            },
            "type": "scatter"
           }
          ],
          "scatter3d": [
           {
            "line": {
             "colorbar": {
              "outlinewidth": 0,
              "ticks": ""
             }
            },
            "marker": {
             "colorbar": {
              "outlinewidth": 0,
              "ticks": ""
             }
            },
            "type": "scatter3d"
           }
          ],
          "scattercarpet": [
           {
            "marker": {
             "colorbar": {
              "outlinewidth": 0,
              "ticks": ""
             }
            },
            "type": "scattercarpet"
           }
          ],
          "scattergeo": [
           {
            "marker": {
             "colorbar": {
              "outlinewidth": 0,
              "ticks": ""
             }
            },
            "type": "scattergeo"
           }
          ],
          "scattergl": [
           {
            "marker": {
             "colorbar": {
              "outlinewidth": 0,
              "ticks": ""
             }
            },
            "type": "scattergl"
           }
          ],
          "scattermapbox": [
           {
            "marker": {
             "colorbar": {
              "outlinewidth": 0,
              "ticks": ""
             }
            },
            "type": "scattermapbox"
           }
          ],
          "scatterpolar": [
           {
            "marker": {
             "colorbar": {
              "outlinewidth": 0,
              "ticks": ""
             }
            },
            "type": "scatterpolar"
           }
          ],
          "scatterpolargl": [
           {
            "marker": {
             "colorbar": {
              "outlinewidth": 0,
              "ticks": ""
             }
            },
            "type": "scatterpolargl"
           }
          ],
          "scatterternary": [
           {
            "marker": {
             "colorbar": {
              "outlinewidth": 0,
              "ticks": ""
             }
            },
            "type": "scatterternary"
           }
          ],
          "surface": [
           {
            "colorbar": {
             "outlinewidth": 0,
             "ticks": ""
            },
            "colorscale": [
             [
              0,
              "#0d0887"
             ],
             [
              0.1111111111111111,
              "#46039f"
             ],
             [
              0.2222222222222222,
              "#7201a8"
             ],
             [
              0.3333333333333333,
              "#9c179e"
             ],
             [
              0.4444444444444444,
              "#bd3786"
             ],
             [
              0.5555555555555556,
              "#d8576b"
             ],
             [
              0.6666666666666666,
              "#ed7953"
             ],
             [
              0.7777777777777778,
              "#fb9f3a"
             ],
             [
              0.8888888888888888,
              "#fdca26"
             ],
             [
              1,
              "#f0f921"
             ]
            ],
            "type": "surface"
           }
          ],
          "table": [
           {
            "cells": {
             "fill": {
              "color": "#EBF0F8"
             },
             "line": {
              "color": "white"
             }
            },
            "header": {
             "fill": {
              "color": "#C8D4E3"
             },
             "line": {
              "color": "white"
             }
            },
            "type": "table"
           }
          ]
         },
         "layout": {
          "annotationdefaults": {
           "arrowcolor": "#2a3f5f",
           "arrowhead": 0,
           "arrowwidth": 1
          },
          "colorscale": {
           "diverging": [
            [
             0,
             "#8e0152"
            ],
            [
             0.1,
             "#c51b7d"
            ],
            [
             0.2,
             "#de77ae"
            ],
            [
             0.3,
             "#f1b6da"
            ],
            [
             0.4,
             "#fde0ef"
            ],
            [
             0.5,
             "#f7f7f7"
            ],
            [
             0.6,
             "#e6f5d0"
            ],
            [
             0.7,
             "#b8e186"
            ],
            [
             0.8,
             "#7fbc41"
            ],
            [
             0.9,
             "#4d9221"
            ],
            [
             1,
             "#276419"
            ]
           ],
           "sequential": [
            [
             0,
             "#0d0887"
            ],
            [
             0.1111111111111111,
             "#46039f"
            ],
            [
             0.2222222222222222,
             "#7201a8"
            ],
            [
             0.3333333333333333,
             "#9c179e"
            ],
            [
             0.4444444444444444,
             "#bd3786"
            ],
            [
             0.5555555555555556,
             "#d8576b"
            ],
            [
             0.6666666666666666,
             "#ed7953"
            ],
            [
             0.7777777777777778,
             "#fb9f3a"
            ],
            [
             0.8888888888888888,
             "#fdca26"
            ],
            [
             1,
             "#f0f921"
            ]
           ],
           "sequentialminus": [
            [
             0,
             "#0d0887"
            ],
            [
             0.1111111111111111,
             "#46039f"
            ],
            [
             0.2222222222222222,
             "#7201a8"
            ],
            [
             0.3333333333333333,
             "#9c179e"
            ],
            [
             0.4444444444444444,
             "#bd3786"
            ],
            [
             0.5555555555555556,
             "#d8576b"
            ],
            [
             0.6666666666666666,
             "#ed7953"
            ],
            [
             0.7777777777777778,
             "#fb9f3a"
            ],
            [
             0.8888888888888888,
             "#fdca26"
            ],
            [
             1,
             "#f0f921"
            ]
           ]
          },
          "colorway": [
           "#636efa",
           "#EF553B",
           "#00cc96",
           "#ab63fa",
           "#FFA15A",
           "#19d3f3",
           "#FF6692",
           "#B6E880",
           "#FF97FF",
           "#FECB52"
          ],
          "font": {
           "color": "#2a3f5f"
          },
          "geo": {
           "bgcolor": "white",
           "lakecolor": "white",
           "landcolor": "#E5ECF6",
           "showlakes": true,
           "showland": true,
           "subunitcolor": "white"
          },
          "hoverlabel": {
           "align": "left"
          },
          "hovermode": "closest",
          "mapbox": {
           "style": "light"
          },
          "paper_bgcolor": "white",
          "plot_bgcolor": "#E5ECF6",
          "polar": {
           "angularaxis": {
            "gridcolor": "white",
            "linecolor": "white",
            "ticks": ""
           },
           "bgcolor": "#E5ECF6",
           "radialaxis": {
            "gridcolor": "white",
            "linecolor": "white",
            "ticks": ""
           }
          },
          "scene": {
           "xaxis": {
            "backgroundcolor": "#E5ECF6",
            "gridcolor": "white",
            "gridwidth": 2,
            "linecolor": "white",
            "showbackground": true,
            "ticks": "",
            "zerolinecolor": "white"
           },
           "yaxis": {
            "backgroundcolor": "#E5ECF6",
            "gridcolor": "white",
            "gridwidth": 2,
            "linecolor": "white",
            "showbackground": true,
            "ticks": "",
            "zerolinecolor": "white"
           },
           "zaxis": {
            "backgroundcolor": "#E5ECF6",
            "gridcolor": "white",
            "gridwidth": 2,
            "linecolor": "white",
            "showbackground": true,
            "ticks": "",
            "zerolinecolor": "white"
           }
          },
          "shapedefaults": {
           "line": {
            "color": "#2a3f5f"
           }
          },
          "ternary": {
           "aaxis": {
            "gridcolor": "white",
            "linecolor": "white",
            "ticks": ""
           },
           "baxis": {
            "gridcolor": "white",
            "linecolor": "white",
            "ticks": ""
           },
           "bgcolor": "#E5ECF6",
           "caxis": {
            "gridcolor": "white",
            "linecolor": "white",
            "ticks": ""
           }
          },
          "title": {
           "x": 0.05
          },
          "xaxis": {
           "automargin": true,
           "gridcolor": "white",
           "linecolor": "white",
           "ticks": "",
           "zerolinecolor": "white",
           "zerolinewidth": 2
          },
          "yaxis": {
           "automargin": true,
           "gridcolor": "white",
           "linecolor": "white",
           "ticks": "",
           "zerolinecolor": "white",
           "zerolinewidth": 2
          }
         }
        }
       }
      },
      "text/html": [
       "<div>\n",
       "        \n",
       "        \n",
       "            <div id=\"95566f97-42ee-468c-801b-2338bf8f4d0e\" class=\"plotly-graph-div\" style=\"height:600px; width:100%;\"></div>\n",
       "            <script type=\"text/javascript\">\n",
       "                require([\"plotly\"], function(Plotly) {\n",
       "                    window.PLOTLYENV=window.PLOTLYENV || {};\n",
       "                    \n",
       "                if (document.getElementById(\"95566f97-42ee-468c-801b-2338bf8f4d0e\")) {\n",
       "                    Plotly.newPlot(\n",
       "                        '95566f97-42ee-468c-801b-2338bf8f4d0e',\n",
       "                        [{\"hoverlabel\": {\"namelength\": 0}, \"hovertemplate\": \"<b>%{hovertext}</b><br><br>dim1=%{x}<br>dim2=%{y}<br>dim3=%{z}\", \"hovertext\": [\"big\", \"cute\", \"<EOL>\", \"dog\", \"fun\", \"withdraw\", \"cat\", \"happy\", \"fluffy\", \"bank\", \"put\", \"good\", \"small\", \"money\", \"deposit\", \"<SOL>\"], \"legendgroup\": \"\", \"marker\": {\"color\": \"#636efa\", \"symbol\": \"circle\"}, \"mode\": \"markers\", \"name\": \"\", \"showlegend\": false, \"type\": \"scatter3d\", \"x\": [14.882000923156738, 16.263641357421875, 14.71601390838623, 16.062185287475586, 16.62544822692871, 4.786110877990723, 15.877803802490234, 16.548437118530273, 16.375072479248047, 4.921092510223389, 5.201442241668701, 14.935057640075684, 15.609272956848145, 4.884707927703857, 4.560201644897461, 14.879393577575684], \"y\": [-10.513669967651367, 22.853248596191406, -10.928855895996094, 23.0949649810791, 22.816743850708008, -7.588411331176758, 22.00678062438965, 23.12978744506836, 22.235090255737305, -6.703819274902344, -6.607868194580078, -11.509530067443848, 22.507320404052734, -7.007293224334717, -7.254831314086914, -11.131818771362305], \"z\": [-6.677679061889648, -2.1236226558685303, -6.641607761383057, -1.7645058631896973, -1.180980920791626, 3.236720323562622, -1.4429502487182617, -1.4033637046813965, -1.7844398021697998, 3.8782079219818115, 3.3690996170043945, -6.2009196281433105, -1.7214936017990112, 3.0777149200439453, 3.490950345993042, -6.4308061599731445]}],\n",
       "                        {\"height\": 600, \"legend\": {\"tracegroupgap\": 0}, \"margin\": {\"t\": 60}, \"scene\": {\"xaxis\": {\"title\": {\"text\": \"dim1\"}}, \"yaxis\": {\"title\": {\"text\": \"dim2\"}}, \"zaxis\": {\"title\": {\"text\": \"dim3\"}}}, \"template\": {\"data\": {\"bar\": [{\"error_x\": {\"color\": \"#2a3f5f\"}, \"error_y\": {\"color\": \"#2a3f5f\"}, \"marker\": {\"line\": {\"color\": \"#E5ECF6\", \"width\": 0.5}}, \"type\": \"bar\"}], \"barpolar\": [{\"marker\": {\"line\": {\"color\": \"#E5ECF6\", \"width\": 0.5}}, \"type\": \"barpolar\"}], \"carpet\": [{\"aaxis\": {\"endlinecolor\": \"#2a3f5f\", \"gridcolor\": \"white\", \"linecolor\": \"white\", \"minorgridcolor\": \"white\", \"startlinecolor\": \"#2a3f5f\"}, \"baxis\": {\"endlinecolor\": \"#2a3f5f\", \"gridcolor\": \"white\", \"linecolor\": \"white\", \"minorgridcolor\": \"white\", \"startlinecolor\": \"#2a3f5f\"}, \"type\": \"carpet\"}], \"choropleth\": [{\"colorbar\": {\"outlinewidth\": 0, \"ticks\": \"\"}, \"type\": \"choropleth\"}], \"contour\": [{\"colorbar\": {\"outlinewidth\": 0, \"ticks\": \"\"}, \"colorscale\": [[0.0, \"#0d0887\"], [0.1111111111111111, \"#46039f\"], [0.2222222222222222, \"#7201a8\"], [0.3333333333333333, \"#9c179e\"], [0.4444444444444444, \"#bd3786\"], [0.5555555555555556, \"#d8576b\"], [0.6666666666666666, \"#ed7953\"], [0.7777777777777778, \"#fb9f3a\"], [0.8888888888888888, \"#fdca26\"], [1.0, \"#f0f921\"]], \"type\": \"contour\"}], \"contourcarpet\": [{\"colorbar\": {\"outlinewidth\": 0, \"ticks\": \"\"}, \"type\": \"contourcarpet\"}], \"heatmap\": [{\"colorbar\": {\"outlinewidth\": 0, \"ticks\": \"\"}, \"colorscale\": [[0.0, \"#0d0887\"], [0.1111111111111111, \"#46039f\"], [0.2222222222222222, \"#7201a8\"], [0.3333333333333333, \"#9c179e\"], [0.4444444444444444, \"#bd3786\"], [0.5555555555555556, \"#d8576b\"], [0.6666666666666666, \"#ed7953\"], [0.7777777777777778, \"#fb9f3a\"], [0.8888888888888888, \"#fdca26\"], [1.0, \"#f0f921\"]], \"type\": \"heatmap\"}], \"heatmapgl\": [{\"colorbar\": {\"outlinewidth\": 0, \"ticks\": \"\"}, \"colorscale\": [[0.0, \"#0d0887\"], [0.1111111111111111, \"#46039f\"], [0.2222222222222222, \"#7201a8\"], [0.3333333333333333, \"#9c179e\"], [0.4444444444444444, \"#bd3786\"], [0.5555555555555556, \"#d8576b\"], [0.6666666666666666, \"#ed7953\"], [0.7777777777777778, \"#fb9f3a\"], [0.8888888888888888, \"#fdca26\"], [1.0, \"#f0f921\"]], \"type\": \"heatmapgl\"}], \"histogram\": [{\"marker\": {\"colorbar\": {\"outlinewidth\": 0, \"ticks\": \"\"}}, \"type\": \"histogram\"}], \"histogram2d\": [{\"colorbar\": {\"outlinewidth\": 0, \"ticks\": \"\"}, \"colorscale\": [[0.0, \"#0d0887\"], [0.1111111111111111, \"#46039f\"], [0.2222222222222222, \"#7201a8\"], [0.3333333333333333, \"#9c179e\"], [0.4444444444444444, \"#bd3786\"], [0.5555555555555556, \"#d8576b\"], [0.6666666666666666, \"#ed7953\"], [0.7777777777777778, \"#fb9f3a\"], [0.8888888888888888, \"#fdca26\"], [1.0, \"#f0f921\"]], \"type\": \"histogram2d\"}], \"histogram2dcontour\": [{\"colorbar\": {\"outlinewidth\": 0, \"ticks\": \"\"}, \"colorscale\": [[0.0, \"#0d0887\"], [0.1111111111111111, \"#46039f\"], [0.2222222222222222, \"#7201a8\"], [0.3333333333333333, \"#9c179e\"], [0.4444444444444444, \"#bd3786\"], [0.5555555555555556, \"#d8576b\"], [0.6666666666666666, \"#ed7953\"], [0.7777777777777778, \"#fb9f3a\"], [0.8888888888888888, \"#fdca26\"], [1.0, \"#f0f921\"]], \"type\": \"histogram2dcontour\"}], \"mesh3d\": [{\"colorbar\": {\"outlinewidth\": 0, \"ticks\": \"\"}, \"type\": \"mesh3d\"}], \"parcoords\": [{\"line\": {\"colorbar\": {\"outlinewidth\": 0, \"ticks\": \"\"}}, \"type\": \"parcoords\"}], \"scatter\": [{\"marker\": {\"colorbar\": {\"outlinewidth\": 0, \"ticks\": \"\"}}, \"type\": \"scatter\"}], \"scatter3d\": [{\"line\": {\"colorbar\": {\"outlinewidth\": 0, \"ticks\": \"\"}}, \"marker\": {\"colorbar\": {\"outlinewidth\": 0, \"ticks\": \"\"}}, \"type\": \"scatter3d\"}], \"scattercarpet\": [{\"marker\": {\"colorbar\": {\"outlinewidth\": 0, \"ticks\": \"\"}}, \"type\": \"scattercarpet\"}], \"scattergeo\": [{\"marker\": {\"colorbar\": {\"outlinewidth\": 0, \"ticks\": \"\"}}, \"type\": \"scattergeo\"}], \"scattergl\": [{\"marker\": {\"colorbar\": {\"outlinewidth\": 0, \"ticks\": \"\"}}, \"type\": \"scattergl\"}], \"scattermapbox\": [{\"marker\": {\"colorbar\": {\"outlinewidth\": 0, \"ticks\": \"\"}}, \"type\": \"scattermapbox\"}], \"scatterpolar\": [{\"marker\": {\"colorbar\": {\"outlinewidth\": 0, \"ticks\": \"\"}}, \"type\": \"scatterpolar\"}], \"scatterpolargl\": [{\"marker\": {\"colorbar\": {\"outlinewidth\": 0, \"ticks\": \"\"}}, \"type\": \"scatterpolargl\"}], \"scatterternary\": [{\"marker\": {\"colorbar\": {\"outlinewidth\": 0, \"ticks\": \"\"}}, \"type\": \"scatterternary\"}], \"surface\": [{\"colorbar\": {\"outlinewidth\": 0, \"ticks\": \"\"}, \"colorscale\": [[0.0, \"#0d0887\"], [0.1111111111111111, \"#46039f\"], [0.2222222222222222, \"#7201a8\"], [0.3333333333333333, \"#9c179e\"], [0.4444444444444444, \"#bd3786\"], [0.5555555555555556, \"#d8576b\"], [0.6666666666666666, \"#ed7953\"], [0.7777777777777778, \"#fb9f3a\"], [0.8888888888888888, \"#fdca26\"], [1.0, \"#f0f921\"]], \"type\": \"surface\"}], \"table\": [{\"cells\": {\"fill\": {\"color\": \"#EBF0F8\"}, \"line\": {\"color\": \"white\"}}, \"header\": {\"fill\": {\"color\": \"#C8D4E3\"}, \"line\": {\"color\": \"white\"}}, \"type\": \"table\"}]}, \"layout\": {\"annotationdefaults\": {\"arrowcolor\": \"#2a3f5f\", \"arrowhead\": 0, \"arrowwidth\": 1}, \"colorscale\": {\"diverging\": [[0, \"#8e0152\"], [0.1, \"#c51b7d\"], [0.2, \"#de77ae\"], [0.3, \"#f1b6da\"], [0.4, \"#fde0ef\"], [0.5, \"#f7f7f7\"], [0.6, \"#e6f5d0\"], [0.7, \"#b8e186\"], [0.8, \"#7fbc41\"], [0.9, \"#4d9221\"], [1, \"#276419\"]], \"sequential\": [[0.0, \"#0d0887\"], [0.1111111111111111, \"#46039f\"], [0.2222222222222222, \"#7201a8\"], [0.3333333333333333, \"#9c179e\"], [0.4444444444444444, \"#bd3786\"], [0.5555555555555556, \"#d8576b\"], [0.6666666666666666, \"#ed7953\"], [0.7777777777777778, \"#fb9f3a\"], [0.8888888888888888, \"#fdca26\"], [1.0, \"#f0f921\"]], \"sequentialminus\": [[0.0, \"#0d0887\"], [0.1111111111111111, \"#46039f\"], [0.2222222222222222, \"#7201a8\"], [0.3333333333333333, \"#9c179e\"], [0.4444444444444444, \"#bd3786\"], [0.5555555555555556, \"#d8576b\"], [0.6666666666666666, \"#ed7953\"], [0.7777777777777778, \"#fb9f3a\"], [0.8888888888888888, \"#fdca26\"], [1.0, \"#f0f921\"]]}, \"colorway\": [\"#636efa\", \"#EF553B\", \"#00cc96\", \"#ab63fa\", \"#FFA15A\", \"#19d3f3\", \"#FF6692\", \"#B6E880\", \"#FF97FF\", \"#FECB52\"], \"font\": {\"color\": \"#2a3f5f\"}, \"geo\": {\"bgcolor\": \"white\", \"lakecolor\": \"white\", \"landcolor\": \"#E5ECF6\", \"showlakes\": true, \"showland\": true, \"subunitcolor\": \"white\"}, \"hoverlabel\": {\"align\": \"left\"}, \"hovermode\": \"closest\", \"mapbox\": {\"style\": \"light\"}, \"paper_bgcolor\": \"white\", \"plot_bgcolor\": \"#E5ECF6\", \"polar\": {\"angularaxis\": {\"gridcolor\": \"white\", \"linecolor\": \"white\", \"ticks\": \"\"}, \"bgcolor\": \"#E5ECF6\", \"radialaxis\": {\"gridcolor\": \"white\", \"linecolor\": \"white\", \"ticks\": \"\"}}, \"scene\": {\"xaxis\": {\"backgroundcolor\": \"#E5ECF6\", \"gridcolor\": \"white\", \"gridwidth\": 2, \"linecolor\": \"white\", \"showbackground\": true, \"ticks\": \"\", \"zerolinecolor\": \"white\"}, \"yaxis\": {\"backgroundcolor\": \"#E5ECF6\", \"gridcolor\": \"white\", \"gridwidth\": 2, \"linecolor\": \"white\", \"showbackground\": true, \"ticks\": \"\", \"zerolinecolor\": \"white\"}, \"zaxis\": {\"backgroundcolor\": \"#E5ECF6\", \"gridcolor\": \"white\", \"gridwidth\": 2, \"linecolor\": \"white\", \"showbackground\": true, \"ticks\": \"\", \"zerolinecolor\": \"white\"}}, \"shapedefaults\": {\"line\": {\"color\": \"#2a3f5f\"}}, \"ternary\": {\"aaxis\": {\"gridcolor\": \"white\", \"linecolor\": \"white\", \"ticks\": \"\"}, \"baxis\": {\"gridcolor\": \"white\", \"linecolor\": \"white\", \"ticks\": \"\"}, \"bgcolor\": \"#E5ECF6\", \"caxis\": {\"gridcolor\": \"white\", \"linecolor\": \"white\", \"ticks\": \"\"}}, \"title\": {\"x\": 0.05}, \"xaxis\": {\"automargin\": true, \"gridcolor\": \"white\", \"linecolor\": \"white\", \"ticks\": \"\", \"zerolinecolor\": \"white\", \"zerolinewidth\": 2}, \"yaxis\": {\"automargin\": true, \"gridcolor\": \"white\", \"linecolor\": \"white\", \"ticks\": \"\", \"zerolinecolor\": \"white\", \"zerolinewidth\": 2}}}},\n",
       "                        {\"responsive\": true}\n",
       "                    ).then(function(){\n",
       "                            \n",
       "var gd = document.getElementById('95566f97-42ee-468c-801b-2338bf8f4d0e');\n",
       "var x = new MutationObserver(function (mutations, observer) {{\n",
       "        var display = window.getComputedStyle(gd).display;\n",
       "        if (!display || display === 'none') {{\n",
       "            console.log([gd, 'removed!']);\n",
       "            Plotly.purge(gd);\n",
       "            observer.disconnect();\n",
       "        }}\n",
       "}});\n",
       "\n",
       "// Listen for the removal of the full notebook cells\n",
       "var notebookContainer = gd.closest('#notebook-container');\n",
       "if (notebookContainer) {{\n",
       "    x.observe(notebookContainer, {childList: true});\n",
       "}}\n",
       "\n",
       "// Listen for the clearing of the current output cell\n",
       "var outputEl = gd.closest('.output');\n",
       "if (outputEl) {{\n",
       "    x.observe(outputEl, {childList: true});\n",
       "}}\n",
       "\n",
       "                        })\n",
       "                };\n",
       "                });\n",
       "            </script>\n",
       "        </div>"
      ]
     },
     "metadata": {},
     "output_type": "display_data"
    }
   ],
   "source": [
    "#get_dist_mat(df_emb,'cosine')\n",
    "plot_umap(df_emb_normalised.values, n_dims=3)"
   ]
  },
  {
   "cell_type": "code",
   "execution_count": null,
   "metadata": {},
   "outputs": [],
   "source": [
    "# write results to file to inspect\n",
    "df_U,df_V = pd.DataFrame(U.detach().numpy()),pd.DataFrame(V.detach().numpy())\n",
    "df_U.columns = df_V.columns = df_emb.columns = words\n",
    "\n",
    "# distance matrices \n",
    "df_emb_cosine,df_emb_l2 = get_dist_mat(df_emb,'cosine'),get_dist_mat(df_emb,'euclidean')\n",
    "df_emb_cosine.columns = df_emb_l2.columns = words\n",
    "df_emb_cosine.index = df_emb_l2.index= words"
   ]
  },
  {
   "cell_type": "code",
   "execution_count": null,
   "metadata": {},
   "outputs": [],
   "source": [
    "with pd.ExcelWriter(path_results + 'word2vec_vectors.xlsx') as writer: \n",
    "    df_V.to_excel(writer, sheet_name='center_words')\n",
    "    df_U.to_excel(writer, sheet_name='context_words')\n",
    "    df_emb.to_excel(writer, sheet_name='emb_words')\n",
    "    df_final_cosine.to_excel(writer, sheet_name='emb_cosine_distance')\n",
    "    df_final_l2.to_excel(writer, sheet_name='emb_euclidean_distance')"
   ]
  },
  {
   "cell_type": "code",
   "execution_count": null,
   "metadata": {},
   "outputs": [],
   "source": []
  },
  {
   "cell_type": "code",
   "execution_count": null,
   "metadata": {},
   "outputs": [],
   "source": []
  },
  {
   "cell_type": "code",
   "execution_count": null,
   "metadata": {},
   "outputs": [],
   "source": []
  },
  {
   "cell_type": "code",
   "execution_count": null,
   "metadata": {},
   "outputs": [],
   "source": []
  }
 ],
 "metadata": {
  "kernelspec": {
   "display_name": "Python 3",
   "language": "python",
   "name": "python3"
  },
  "language_info": {
   "codemirror_mode": {
    "name": "ipython",
    "version": 3
   },
   "file_extension": ".py",
   "mimetype": "text/x-python",
   "name": "python",
   "nbconvert_exporter": "python",
   "pygments_lexer": "ipython3",
   "version": "3.7.3"
  }
 },
 "nbformat": 4,
 "nbformat_minor": 2
}
